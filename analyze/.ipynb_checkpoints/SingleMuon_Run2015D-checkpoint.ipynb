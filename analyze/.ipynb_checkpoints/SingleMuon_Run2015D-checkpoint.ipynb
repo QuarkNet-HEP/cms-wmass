{
 "cells": [
  {
   "cell_type": "markdown",
   "metadata": {},
   "source": [
    "# SingleMuon_Run2015D\n",
    "\n",
    "author: thomas.mccauley@cern.ch"
   ]
  },
  {
   "cell_type": "code",
   "execution_count": 1,
   "metadata": {},
   "outputs": [],
   "source": [
    "import uproot4\n",
    "import awkward as ak\n",
    "import vector\n",
    "\n",
    "import numpy as np\n",
    "import matplotlib.pyplot as plt\n",
    "\n",
    "import pandas as pd\n",
    "\n",
    "from particle import Particle\n",
    "from hepunits import GeV"
   ]
  },
  {
   "cell_type": "code",
   "execution_count": 5,
   "metadata": {},
   "outputs": [],
   "source": [
    "data = uproot4.open('../skim/MiniAOD2NanoAODOutreachTool/SingleMuon_Run2015D.root:miniaod2nanoaod')"
   ]
  },
  {
   "cell_type": "code",
   "execution_count": 6,
   "metadata": {},
   "outputs": [
    {
     "name": "stdout",
     "output_type": "stream",
     "text": [
      "name                 | typename                 | interpretation                \n",
      "---------------------+--------------------------+-------------------------------\n",
      "run                  | int32_t                  | AsDtype('>i4')\n",
      "luminosityBlock      | uint32_t                 | AsDtype('>u4')\n",
      "event                | uint64_t                 | AsDtype('>u8')\n",
      "HLT_IsoMu24_eta2p1   | bool                     | AsDtype('bool')\n",
      "HLT_IsoMu24          | bool                     | AsDtype('bool')\n",
      "HLT_IsoMu17_eta2p... | bool                     | AsDtype('bool')\n",
      "PV_npvs              | int32_t                  | AsDtype('>i4')\n",
      "PV_x                 | float                    | AsDtype('>f4')\n",
      "PV_y                 | float                    | AsDtype('>f4')\n",
      "PV_z                 | float                    | AsDtype('>f4')\n",
      "nMuon                | uint32_t                 | AsDtype('>u4')\n",
      "Muon_pt              | float[]                  | AsJagged(AsDtype('>f4'))\n",
      "Muon_eta             | float[]                  | AsJagged(AsDtype('>f4'))\n",
      "Muon_phi             | float[]                  | AsJagged(AsDtype('>f4'))\n",
      "Muon_mass            | float[]                  | AsJagged(AsDtype('>f4'))\n",
      "Muon_charge          | int32_t[]                | AsJagged(AsDtype('>i4'))\n",
      "Muon_pfRelIso03_all  | float[]                  | AsJagged(AsDtype('>f4'))\n",
      "Muon_pfRelIso04_all  | float[]                  | AsJagged(AsDtype('>f4'))\n",
      "Muon_tightId         | bool[]                   | AsJagged(AsDtype('bool'))\n",
      "Muon_softId          | bool[]                   | AsJagged(AsDtype('bool'))\n",
      "Muon_dxy             | float[]                  | AsJagged(AsDtype('>f4'))\n",
      "Muon_dxyErr          | float[]                  | AsJagged(AsDtype('>f4'))\n",
      "Muon_dz              | float[]                  | AsJagged(AsDtype('>f4'))\n",
      "Muon_dzErr           | float[]                  | AsJagged(AsDtype('>f4'))\n",
      "Muon_jetIdx          | int32_t[]                | AsJagged(AsDtype('>i4'))\n",
      "Muon_genPartIdx      | int32_t[]                | AsJagged(AsDtype('>i4'))\n",
      "nElectron            | uint32_t                 | AsDtype('>u4')\n",
      "Electron_pt          | float[]                  | AsJagged(AsDtype('>f4'))\n",
      "Electron_eta         | float[]                  | AsJagged(AsDtype('>f4'))\n",
      "Electron_phi         | float[]                  | AsJagged(AsDtype('>f4'))\n",
      "Electron_mass        | float[]                  | AsJagged(AsDtype('>f4'))\n",
      "Electron_charge      | int32_t[]                | AsJagged(AsDtype('>i4'))\n",
      "Electron_pfRelIso... | float[]                  | AsJagged(AsDtype('>f4'))\n",
      "Electron_dxy         | float[]                  | AsJagged(AsDtype('>f4'))\n",
      "Electron_dxyErr      | float[]                  | AsJagged(AsDtype('>f4'))\n",
      "Electron_dz          | float[]                  | AsJagged(AsDtype('>f4'))\n",
      "Electron_dzErr       | float[]                  | AsJagged(AsDtype('>f4'))\n",
      "Electron_cutBasedId  | bool[]                   | AsJagged(AsDtype('bool'))\n",
      "Electron_pfId        | bool[]                   | AsJagged(AsDtype('bool'))\n",
      "Electron_jetIdx      | int32_t[]                | AsJagged(AsDtype('>i4'))\n",
      "Electron_genPartIdx  | int32_t[]                | AsJagged(AsDtype('>i4'))\n",
      "MET_pt               | float                    | AsDtype('>f4')\n",
      "MET_phi              | float                    | AsDtype('>f4')\n",
      "MET_sumet            | float                    | AsDtype('>f4')\n",
      "MET_significance     | float                    | AsDtype('>f4')\n",
      "MET_CovXX            | float                    | AsDtype('>f4')\n",
      "MET_CovXY            | float                    | AsDtype('>f4')\n",
      "MET_CovYY            | float                    | AsDtype('>f4')\n"
     ]
    }
   ],
   "source": [
    "data['Events'].show()"
   ]
  },
  {
   "cell_type": "code",
   "execution_count": 7,
   "metadata": {},
   "outputs": [
    {
     "data": {
      "text/plain": [
       "ArrayType(RecordType([NumpyType('int32'), NumpyType('uint32'), NumpyType('uint64'), NumpyType('bool'), NumpyType('bool'), NumpyType('bool'), NumpyType('int32'), NumpyType('float32'), NumpyType('float32'), NumpyType('float32'), NumpyType('uint32'), NumpyType('uint32'), NumpyType('float32'), NumpyType('float32'), NumpyType('float32'), NumpyType('float32'), NumpyType('float32'), NumpyType('float32'), NumpyType('float32'), ListType(RecordType([NumpyType('float32'), NumpyType('float32'), NumpyType('float32'), NumpyType('float32'), NumpyType('int32'), NumpyType('float32'), NumpyType('float32'), NumpyType('bool'), NumpyType('bool'), NumpyType('float32'), NumpyType('float32'), NumpyType('float32'), NumpyType('float32'), NumpyType('int32'), NumpyType('int32')], ['pt', 'eta', 'phi', 'mass', 'charge', 'pfRelIso03_all', 'pfRelIso04_all', 'tightId', 'softId', 'dxy', 'dxyErr', 'dz', 'dzErr', 'jetIdx', 'genPartIdx'])), ListType(RecordType([NumpyType('float32'), NumpyType('float32'), NumpyType('float32'), NumpyType('float32'), NumpyType('int32'), NumpyType('float32'), NumpyType('float32'), NumpyType('float32'), NumpyType('float32'), NumpyType('float32'), NumpyType('bool'), NumpyType('bool'), NumpyType('int32'), NumpyType('int32')], ['pt', 'eta', 'phi', 'mass', 'charge', 'pfRelIso03_all', 'dxy', 'dxyErr', 'dz', 'dzErr', 'cutBasedId', 'pfId', 'jetIdx', 'genPartIdx']))], ['run', 'luminosityBlock', 'event', 'HLT_IsoMu24_eta2p1', 'HLT_IsoMu24', 'HLT_IsoMu17_eta2p1_LooseIsoPFTau20', 'PV_npvs', 'PV_x', 'PV_y', 'PV_z', 'nMuon', 'nElectron', 'MET_pt', 'MET_phi', 'MET_sumet', 'MET_significance', 'MET_CovXX', 'MET_CovXY', 'MET_CovYY', 'Muon', 'Electron']), 2)"
      ]
     },
     "execution_count": 7,
     "metadata": {},
     "output_type": "execute_result"
    }
   ],
   "source": [
    "events = data['Events'].arrays(library=\"ak\", how=\"zip\")\n",
    "ak.type(events)"
   ]
  },
  {
   "cell_type": "code",
   "execution_count": 8,
   "metadata": {},
   "outputs": [],
   "source": [
    "vector.register_awkward()"
   ]
  },
  {
   "cell_type": "code",
   "execution_count": 9,
   "metadata": {},
   "outputs": [],
   "source": [
    "muons = ak.zip({\n",
    "    \"pt\": events.Muon.pt,\n",
    "    \"eta\": events.Muon.eta,\n",
    "    \"phi\": events.Muon.phi,\n",
    "    \"mass\": events.Muon.mass,\n",
    "    \"charge\": events.Muon.charge\n",
    "})"
   ]
  },
  {
   "cell_type": "code",
   "execution_count": 11,
   "metadata": {},
   "outputs": [
    {
     "name": "stderr",
     "output_type": "stream",
     "text": [
      "/home/mccauley/.local/lib/python3.10/site-packages/awkward/operations/ak_to_dataframe.py:159: FutureWarning: merging between different levels is deprecated and will be removed in a future version. (1 levels on the left, 2 on the right)\n",
      "  out = pandas.merge(out, df, how=how, left_index=True, right_index=True)\n",
      "/home/mccauley/.local/lib/python3.10/site-packages/awkward/operations/ak_to_dataframe.py:159: FutureWarning: merging between different levels is deprecated and will be removed in a future version. (1 levels on the left, 2 on the right)\n",
      "  out = pandas.merge(out, df, how=how, left_index=True, right_index=True)\n"
     ]
    }
   ],
   "source": [
    "df = ak.to_dataframe(events)"
   ]
  },
  {
   "cell_type": "code",
   "execution_count": 12,
   "metadata": {},
   "outputs": [
    {
     "data": {
      "text/plain": [
       "Index([                               'run',\n",
       "                          'luminosityBlock',\n",
       "                                    'event',\n",
       "                       'HLT_IsoMu24_eta2p1',\n",
       "                              'HLT_IsoMu24',\n",
       "       'HLT_IsoMu17_eta2p1_LooseIsoPFTau20',\n",
       "                                  'PV_npvs',\n",
       "                                     'PV_x',\n",
       "                                     'PV_y',\n",
       "                                     'PV_z',\n",
       "                                    'nMuon',\n",
       "                                'nElectron',\n",
       "                                   'MET_pt',\n",
       "                                  'MET_phi',\n",
       "                                'MET_sumet',\n",
       "                         'MET_significance',\n",
       "                                'MET_CovXX',\n",
       "                                'MET_CovXY',\n",
       "                                'MET_CovYY',\n",
       "                             ('Muon', 'pt'),\n",
       "                            ('Muon', 'eta'),\n",
       "                            ('Muon', 'phi'),\n",
       "                           ('Muon', 'mass'),\n",
       "                         ('Muon', 'charge'),\n",
       "                 ('Muon', 'pfRelIso03_all'),\n",
       "                 ('Muon', 'pfRelIso04_all'),\n",
       "                        ('Muon', 'tightId'),\n",
       "                         ('Muon', 'softId'),\n",
       "                            ('Muon', 'dxy'),\n",
       "                         ('Muon', 'dxyErr'),\n",
       "                             ('Muon', 'dz'),\n",
       "                          ('Muon', 'dzErr'),\n",
       "                         ('Muon', 'jetIdx'),\n",
       "                     ('Muon', 'genPartIdx'),\n",
       "                         ('Electron', 'pt'),\n",
       "                        ('Electron', 'eta'),\n",
       "                        ('Electron', 'phi'),\n",
       "                       ('Electron', 'mass'),\n",
       "                     ('Electron', 'charge'),\n",
       "             ('Electron', 'pfRelIso03_all'),\n",
       "                        ('Electron', 'dxy'),\n",
       "                     ('Electron', 'dxyErr'),\n",
       "                         ('Electron', 'dz'),\n",
       "                      ('Electron', 'dzErr'),\n",
       "                 ('Electron', 'cutBasedId'),\n",
       "                       ('Electron', 'pfId'),\n",
       "                     ('Electron', 'jetIdx'),\n",
       "                 ('Electron', 'genPartIdx')],\n",
       "      dtype='object')"
      ]
     },
     "execution_count": 12,
     "metadata": {},
     "output_type": "execute_result"
    }
   ],
   "source": [
    "df.columns"
   ]
  },
  {
   "cell_type": "code",
   "execution_count": 13,
   "metadata": {},
   "outputs": [],
   "source": [
    "df.rename(\n",
    "    columns={\n",
    "        (\"Muon\", \"pt\"): \"pt\",\n",
    "        (\"Muon\", \"eta\"): \"eta\",\n",
    "        (\"Muon\", \"phi\"): \"phi\",\n",
    "        (\"Muon\", \"mass\"): \"mass\",\n",
    "        (\"Muon\", \"charge\"): \"charge\",\n",
    "        (\"Muon\", \"pfRelIso03_all\"): \"pfRelIso03_all\",\n",
    "        (\"Muon\", \"pfRelIso04_all\"): \"pfRelIso04_all\",\n",
    "        (\"Muon\", \"tightId\"): \"tightId\",\n",
    "        (\"Muon\", \"softId\"): \"softId\",\n",
    "        (\"Muon\", \"dxy\"): \"dxy\", \n",
    "        (\"Muon\", \"dxyErr\"): \"dxyErr\",\n",
    "        (\"Muon\", \"dz\"): \"dz\",\n",
    "        (\"Muon\", \"dzErr\"): \"dzErr\",\n",
    "        (\"Muon\", \"jetIdx\"): \"jetIdx\",\n",
    "        (\"Muon\", \"genPartIdx\"): \"genPartIdx\"\n",
    "    }, \n",
    "    inplace=True\n",
    ")"
   ]
  },
  {
   "cell_type": "code",
   "execution_count": 14,
   "metadata": {},
   "outputs": [],
   "source": [
    "df.drop(\n",
    "    [\n",
    "        'HLT_IsoMu24_eta2p1',\n",
    "        'HLT_IsoMu24',\n",
    "        'HLT_IsoMu17_eta2p1_LooseIsoPFTau20',\n",
    "        'jetIdx',\n",
    "        'genPartIdx',\n",
    "    ], \n",
    "    inplace=True,\n",
    "    axis=1,\n",
    ")"
   ]
  },
  {
   "cell_type": "code",
   "execution_count": 15,
   "metadata": {},
   "outputs": [
    {
     "data": {
      "text/html": [
       "<div>\n",
       "<style scoped>\n",
       "    .dataframe tbody tr th:only-of-type {\n",
       "        vertical-align: middle;\n",
       "    }\n",
       "\n",
       "    .dataframe tbody tr th {\n",
       "        vertical-align: top;\n",
       "    }\n",
       "\n",
       "    .dataframe thead th {\n",
       "        text-align: right;\n",
       "    }\n",
       "</style>\n",
       "<table border=\"1\" class=\"dataframe\">\n",
       "  <thead>\n",
       "    <tr style=\"text-align: right;\">\n",
       "      <th></th>\n",
       "      <th></th>\n",
       "      <th>run</th>\n",
       "      <th>luminosityBlock</th>\n",
       "      <th>event</th>\n",
       "      <th>PV_npvs</th>\n",
       "      <th>PV_x</th>\n",
       "      <th>PV_y</th>\n",
       "      <th>PV_z</th>\n",
       "      <th>nMuon</th>\n",
       "      <th>nElectron</th>\n",
       "      <th>MET_pt</th>\n",
       "      <th>...</th>\n",
       "      <th>(Electron, charge)</th>\n",
       "      <th>(Electron, pfRelIso03_all)</th>\n",
       "      <th>(Electron, dxy)</th>\n",
       "      <th>(Electron, dxyErr)</th>\n",
       "      <th>(Electron, dz)</th>\n",
       "      <th>(Electron, dzErr)</th>\n",
       "      <th>(Electron, cutBasedId)</th>\n",
       "      <th>(Electron, pfId)</th>\n",
       "      <th>(Electron, jetIdx)</th>\n",
       "      <th>(Electron, genPartIdx)</th>\n",
       "    </tr>\n",
       "    <tr>\n",
       "      <th>entry</th>\n",
       "      <th>subentry</th>\n",
       "      <th></th>\n",
       "      <th></th>\n",
       "      <th></th>\n",
       "      <th></th>\n",
       "      <th></th>\n",
       "      <th></th>\n",
       "      <th></th>\n",
       "      <th></th>\n",
       "      <th></th>\n",
       "      <th></th>\n",
       "      <th></th>\n",
       "      <th></th>\n",
       "      <th></th>\n",
       "      <th></th>\n",
       "      <th></th>\n",
       "      <th></th>\n",
       "      <th></th>\n",
       "      <th></th>\n",
       "      <th></th>\n",
       "      <th></th>\n",
       "      <th></th>\n",
       "    </tr>\n",
       "  </thead>\n",
       "  <tbody>\n",
       "  </tbody>\n",
       "</table>\n",
       "<p>0 rows × 43 columns</p>\n",
       "</div>"
      ],
      "text/plain": [
       "Empty DataFrame\n",
       "Columns: [run, luminosityBlock, event, PV_npvs, PV_x, PV_y, PV_z, nMuon, nElectron, MET_pt, MET_phi, MET_sumet, MET_significance, MET_CovXX, MET_CovXY, MET_CovYY, pt, eta, phi, mass, charge, pfRelIso03_all, pfRelIso04_all, tightId, softId, dxy, dxyErr, dz, dzErr, (Electron, pt), (Electron, eta), (Electron, phi), (Electron, mass), (Electron, charge), (Electron, pfRelIso03_all), (Electron, dxy), (Electron, dxyErr), (Electron, dz), (Electron, dzErr), (Electron, cutBasedId), (Electron, pfId), (Electron, jetIdx), (Electron, genPartIdx)]\n",
       "Index: []\n",
       "\n",
       "[0 rows x 43 columns]"
      ]
     },
     "execution_count": 15,
     "metadata": {},
     "output_type": "execute_result"
    }
   ],
   "source": [
    "df.head()"
   ]
  },
  {
   "cell_type": "code",
   "execution_count": 16,
   "metadata": {},
   "outputs": [],
   "source": [
    "df.to_csv('SingleMuon.csv')"
   ]
  },
  {
   "cell_type": "code",
   "execution_count": null,
   "metadata": {},
   "outputs": [],
   "source": []
  },
  {
   "cell_type": "code",
   "execution_count": null,
   "metadata": {},
   "outputs": [],
   "source": []
  },
  {
   "cell_type": "code",
   "execution_count": null,
   "metadata": {},
   "outputs": [],
   "source": []
  }
 ],
 "metadata": {
  "kernelspec": {
   "display_name": "Python 3 (ipykernel)",
   "language": "python",
   "name": "python3"
  },
  "language_info": {
   "codemirror_mode": {
    "name": "ipython",
    "version": 3
   },
   "file_extension": ".py",
   "mimetype": "text/x-python",
   "name": "python",
   "nbconvert_exporter": "python",
   "pygments_lexer": "ipython3",
   "version": "3.10.6"
  }
 },
 "nbformat": 4,
 "nbformat_minor": 4
}
